{
 "cells": [
  {
   "cell_type": "code",
   "execution_count": 4,
   "metadata": {},
   "outputs": [
    {
     "name": "stderr",
     "output_type": "stream",
     "text": [
      "c:\\Users\\Gordei\\Desktop\\Univer 2\\3 sem\\multi-agent system\\predator-prey-dynamics\\.venv\\Lib\\site-packages\\solara\\validate_hooks.py:122: UserWarning: c:\\Users\\Gordei\\Desktop\\Univer 2\\3 sem\\multi-agent system\\predator-prey-dynamics\\.venv\\Lib\\site-packages\\mesa\\experimental\\jupyter_viz.py:163: JupyterViz: `use_state` found within a nested function created on line 155\n",
      "To suppress this check, replace the line with:\n",
      "        grid_layout, set_grid_layout = solara.use_state(grid_layout_initial)  # noqa: SH104\n",
      "\n",
      "Make sure you understand the consequences of this, by reading about the rules of hooks at:\n",
      "    https://solara.dev/documentation/advanced/understanding/rules-of-hooks\n",
      "\n",
      "  warnings.warn(str(e))\n"
     ]
    }
   ],
   "source": [
    "\n",
    "import time\n",
    "from mesa.experimental import JupyterViz\n",
    "from flocking_example import BoidFlockers\n",
    "\n",
    "# model = BoidFlockers(seed=15, population=200, width=100, height=100, vision=5)\n",
    "# model = BoidFlockers(seed=15, population=400, width=100, height=100, vision=15)\n",
    "\n",
    "# start_time = time.perf_counter()\n",
    "# for _ in range(100):\n",
    "#     model.step()\n",
    "\n",
    "# print(time.perf_counter() - start_time)"
   ]
  },
  {
   "cell_type": "code",
   "execution_count": 5,
   "metadata": {},
   "outputs": [],
   "source": [
    "def agent_portrayal(agent):\n",
    "    return {\n",
    "        \"color\": \"tab:blue\",\n",
    "        \"size\": 50,\n",
    "    }\n",
    "\n",
    "model_params = {\n",
    "    #\"seed\": 15,\n",
    "    \"population\": 400,\n",
    "    \"width\": 100,\n",
    "    'height': 100, \n",
    "    'vision': 15\n",
    "}"
   ]
  },
  {
   "cell_type": "code",
   "execution_count": null,
   "metadata": {},
   "outputs": [],
   "source": []
  },
  {
   "cell_type": "code",
   "execution_count": 24,
   "metadata": {},
   "outputs": [
    {
     "name": "stdout",
     "output_type": "stream",
     "text": [
      "['BarChartModule', 'BarChartVisualization', 'CanvasGrid', 'CanvasGridVisualization', 'CanvasHexGrid', 'ChartModule', 'ChartVisualization', 'HexGridVisualization', 'NetworkModule', 'NetworkVisualization', 'PieChartModule', 'PieChartVisualization', 'TextElement', '__builtins__', '__cached__', '__doc__', '__file__', '__loader__', '__name__', '__package__', '__spec__']\n"
     ]
    },
    {
     "ename": "ImportError",
     "evalue": "cannot import name 'UserSettableParameter' from 'mesa.visualization.UserParam' (c:\\Users\\Gordei\\Desktop\\Univer 2\\3 sem\\multi-agent system\\predator-prey-dynamics\\.venv\\Lib\\site-packages\\mesa\\visualization\\UserParam.py)",
     "output_type": "error",
     "traceback": [
      "\u001b[1;31m---------------------------------------------------------------------------\u001b[0m",
      "\u001b[1;31mImportError\u001b[0m                               Traceback (most recent call last)",
      "Cell \u001b[1;32mIn[24], line 5\u001b[0m\n\u001b[0;32m      3\u001b[0m \u001b[38;5;28;01mfrom\u001b[39;00m \u001b[38;5;21;01mmesa\u001b[39;00m\u001b[38;5;21;01m.\u001b[39;00m\u001b[38;5;21;01mvisualization\u001b[39;00m \u001b[38;5;28;01mimport\u001b[39;00m modules\n\u001b[0;32m      4\u001b[0m \u001b[38;5;28mprint\u001b[39m(\u001b[38;5;28mdir\u001b[39m(modules))\n\u001b[1;32m----> 5\u001b[0m \u001b[38;5;28;01mfrom\u001b[39;00m \u001b[38;5;21;01mmesa\u001b[39;00m\u001b[38;5;21;01m.\u001b[39;00m\u001b[38;5;21;01mvisualization\u001b[39;00m\u001b[38;5;21;01m.\u001b[39;00m\u001b[38;5;21;01mUserParam\u001b[39;00m \u001b[38;5;28;01mimport\u001b[39;00m UserSettableParameter\n\u001b[0;32m      6\u001b[0m \u001b[38;5;28;01mdef\u001b[39;00m \u001b[38;5;21mboid_portrayal\u001b[39m(agent):\n\u001b[0;32m      7\u001b[0m     \u001b[38;5;28;01mif\u001b[39;00m agent \u001b[38;5;129;01mis\u001b[39;00m \u001b[38;5;28;01mNone\u001b[39;00m:\n",
      "\u001b[1;31mImportError\u001b[0m: cannot import name 'UserSettableParameter' from 'mesa.visualization.UserParam' (c:\\Users\\Gordei\\Desktop\\Univer 2\\3 sem\\multi-agent system\\predator-prey-dynamics\\.venv\\Lib\\site-packages\\mesa\\visualization\\UserParam.py)"
     ]
    }
   ],
   "source": [
    "import numpy as np\n",
    "from mesa.visualization.ModularVisualization import ModularServer, VisualizationElement\n",
    "from mesa.visualization import modules\n",
    "print(dir(modules))\n",
    "def boid_portrayal(agent):\n",
    "    if agent is None:\n",
    "        return\n",
    "\n",
    "    # Compute the angle of the direction vector in degrees\n",
    "    angle = np.arctan2(agent.direction[1], agent.direction[0]) * 180 / np.pi\n",
    "\n",
    "    # Compute speed for color intensity (assuming speed is a positive scalar)\n",
    "    speed = agent.speed\n",
    "    max_speed = 5  # Adjust based on expected maximum speed\n",
    "    speed_ratio = min(speed / max_speed, 1.0)\n",
    "    color_intensity = int(255 * speed_ratio)\n",
    "    color = f\"rgb({color_intensity}, {0}, {255 - color_intensity})\"\n",
    "\n",
    "    portrayal = {\n",
    "        \"shape\": \"arrowHead\",\n",
    "        \"w\": 4,  # Width of the rectangle\n",
    "        \"h\": 6,  # Height of the rectangle\n",
    "        \"filled\": True,\n",
    "        \"layer\": 1,\n",
    "        \"color\": color,\n",
    "        \"heading\": angle,\n",
    "        \"x\": agent.pos[0],\n",
    "        \"y\": agent.pos[1],\n",
    "    }\n",
    "    print(portrayal)\n",
    "    return portrayal\n",
    "\n",
    "# Define the size of the canvas\n",
    "canvas_width = 500\n",
    "canvas_height = 500\n",
    "\n",
    "# Create the canvas element\n",
    "page = JupyterViz(\n",
    "    BoidFlockers,\n",
    "    model_params,\n",
    "    measures=[],\n",
    "    name=\"Money asd\",\n",
    "    agent_portrayal=boid_portrayal,\n",
    ")\n",
    "# This is required to render the visualization in the Jupyter notebook\n",
    "page"
   ]
  },
  {
   "cell_type": "code",
   "execution_count": null,
   "metadata": {},
   "outputs": [],
   "source": []
  },
  {
   "cell_type": "code",
   "execution_count": null,
   "metadata": {},
   "outputs": [],
   "source": []
  }
 ],
 "metadata": {
  "kernelspec": {
   "display_name": ".venv",
   "language": "python",
   "name": "python3"
  },
  "language_info": {
   "codemirror_mode": {
    "name": "ipython",
    "version": 3
   },
   "file_extension": ".py",
   "mimetype": "text/x-python",
   "name": "python",
   "nbconvert_exporter": "python",
   "pygments_lexer": "ipython3",
   "version": "3.11.9"
  }
 },
 "nbformat": 4,
 "nbformat_minor": 2
}
